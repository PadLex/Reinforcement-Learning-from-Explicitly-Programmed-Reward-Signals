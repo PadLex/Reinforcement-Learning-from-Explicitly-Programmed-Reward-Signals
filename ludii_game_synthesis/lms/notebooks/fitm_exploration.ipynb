{
 "cells": [
  {
   "cell_type": "code",
   "execution_count": 11,
   "metadata": {},
   "outputs": [],
   "source": [
    "import json\n",
    "import matplotlib.pyplot as plt\n",
    "import pandas as pd"
   ]
  },
  {
   "cell_type": "code",
   "execution_count": 35,
   "metadata": {},
   "outputs": [],
   "source": [
    "data = pd.read_json(\"../caches/mutation_comparison_results.json\")"
   ]
  },
  {
   "cell_type": "code",
   "execution_count": 36,
   "metadata": {},
   "outputs": [],
   "source": [
    "# Drop any rows for which None appears in the evaluations\n",
    "data = data[data['evaluations'].apply(lambda x: None not in x)]"
   ]
  },
  {
   "cell_type": "code",
   "execution_count": 30,
   "metadata": {},
   "outputs": [
    {
     "data": {
      "text/html": [
       "<div>\n",
       "<style scoped>\n",
       "    .dataframe tbody tr th:only-of-type {\n",
       "        vertical-align: middle;\n",
       "    }\n",
       "\n",
       "    .dataframe tbody tr th {\n",
       "        vertical-align: top;\n",
       "    }\n",
       "\n",
       "    .dataframe thead th {\n",
       "        text-align: right;\n",
       "    }\n",
       "</style>\n",
       "<table border=\"1\" class=\"dataframe\">\n",
       "  <thead>\n",
       "    <tr style=\"text-align: right;\">\n",
       "      <th></th>\n",
       "      <th>split</th>\n",
       "      <th>name</th>\n",
       "      <th>temperature</th>\n",
       "      <th>depth</th>\n",
       "      <th>target_len</th>\n",
       "      <th>evaluations</th>\n",
       "      <th>exact_matches</th>\n",
       "    </tr>\n",
       "  </thead>\n",
       "  <tbody>\n",
       "    <tr>\n",
       "      <th>0</th>\n",
       "      <td>train</td>\n",
       "      <td>Aralzaa</td>\n",
       "      <td>0.5</td>\n",
       "      <td>2</td>\n",
       "      <td>77</td>\n",
       "      <td>[False, False, False]</td>\n",
       "      <td>[False, False, False]</td>\n",
       "    </tr>\n",
       "    <tr>\n",
       "      <th>1</th>\n",
       "      <td>val</td>\n",
       "      <td>Dama (Kenya)</td>\n",
       "      <td>0.5</td>\n",
       "      <td>14</td>\n",
       "      <td>9</td>\n",
       "      <td>[True, True, True]</td>\n",
       "      <td>[False, False, False]</td>\n",
       "    </tr>\n",
       "    <tr>\n",
       "      <th>2</th>\n",
       "      <td>train</td>\n",
       "      <td>Oumoul Kono</td>\n",
       "      <td>0.5</td>\n",
       "      <td>6</td>\n",
       "      <td>15</td>\n",
       "      <td>[False, False, False]</td>\n",
       "      <td>[False, False, False]</td>\n",
       "    </tr>\n",
       "    <tr>\n",
       "      <th>3</th>\n",
       "      <td>val</td>\n",
       "      <td>Ho-Bag Gonu</td>\n",
       "      <td>0.5</td>\n",
       "      <td>9</td>\n",
       "      <td>28</td>\n",
       "      <td>[False, False, False]</td>\n",
       "      <td>[False, False, False]</td>\n",
       "    </tr>\n",
       "    <tr>\n",
       "      <th>4</th>\n",
       "      <td>train</td>\n",
       "      <td>Coc-Inbert</td>\n",
       "      <td>0.5</td>\n",
       "      <td>7</td>\n",
       "      <td>459</td>\n",
       "      <td>[False, False, False]</td>\n",
       "      <td>[False, False, False]</td>\n",
       "    </tr>\n",
       "    <tr>\n",
       "      <th>...</th>\n",
       "      <td>...</td>\n",
       "      <td>...</td>\n",
       "      <td>...</td>\n",
       "      <td>...</td>\n",
       "      <td>...</td>\n",
       "      <td>...</td>\n",
       "      <td>...</td>\n",
       "    </tr>\n",
       "    <tr>\n",
       "      <th>2405</th>\n",
       "      <td>val</td>\n",
       "      <td>Manu</td>\n",
       "      <td>1.5</td>\n",
       "      <td>7</td>\n",
       "      <td>4</td>\n",
       "      <td>[False, False, False]</td>\n",
       "      <td>[False, False, False]</td>\n",
       "    </tr>\n",
       "    <tr>\n",
       "      <th>2406</th>\n",
       "      <td>train</td>\n",
       "      <td>Lifeline</td>\n",
       "      <td>1.5</td>\n",
       "      <td>17</td>\n",
       "      <td>53</td>\n",
       "      <td>[False, False, False]</td>\n",
       "      <td>[False, False, False]</td>\n",
       "    </tr>\n",
       "    <tr>\n",
       "      <th>2407</th>\n",
       "      <td>val</td>\n",
       "      <td>Papan Dakon</td>\n",
       "      <td>1.5</td>\n",
       "      <td>3</td>\n",
       "      <td>11</td>\n",
       "      <td>[False, False, False]</td>\n",
       "      <td>[False, False, False]</td>\n",
       "    </tr>\n",
       "    <tr>\n",
       "      <th>2408</th>\n",
       "      <td>train</td>\n",
       "      <td>Issiren</td>\n",
       "      <td>1.5</td>\n",
       "      <td>4</td>\n",
       "      <td>16</td>\n",
       "      <td>[True, False, False]</td>\n",
       "      <td>[False, False, False]</td>\n",
       "    </tr>\n",
       "    <tr>\n",
       "      <th>2409</th>\n",
       "      <td>val</td>\n",
       "      <td>International Draughts</td>\n",
       "      <td>1.5</td>\n",
       "      <td>16</td>\n",
       "      <td>33</td>\n",
       "      <td>[False, False, False]</td>\n",
       "      <td>[False, False, False]</td>\n",
       "    </tr>\n",
       "  </tbody>\n",
       "</table>\n",
       "<p>2409 rows × 7 columns</p>\n",
       "</div>"
      ],
      "text/plain": [
       "      split                    name  temperature  depth  target_len  \\\n",
       "0     train                 Aralzaa          0.5      2          77   \n",
       "1       val            Dama (Kenya)          0.5     14           9   \n",
       "2     train             Oumoul Kono          0.5      6          15   \n",
       "3       val             Ho-Bag Gonu          0.5      9          28   \n",
       "4     train              Coc-Inbert          0.5      7         459   \n",
       "...     ...                     ...          ...    ...         ...   \n",
       "2405    val                    Manu          1.5      7           4   \n",
       "2406  train                Lifeline          1.5     17          53   \n",
       "2407    val             Papan Dakon          1.5      3          11   \n",
       "2408  train                 Issiren          1.5      4          16   \n",
       "2409    val  International Draughts          1.5     16          33   \n",
       "\n",
       "                evaluations          exact_matches  \n",
       "0     [False, False, False]  [False, False, False]  \n",
       "1        [True, True, True]  [False, False, False]  \n",
       "2     [False, False, False]  [False, False, False]  \n",
       "3     [False, False, False]  [False, False, False]  \n",
       "4     [False, False, False]  [False, False, False]  \n",
       "...                     ...                    ...  \n",
       "2405  [False, False, False]  [False, False, False]  \n",
       "2406  [False, False, False]  [False, False, False]  \n",
       "2407  [False, False, False]  [False, False, False]  \n",
       "2408   [True, False, False]  [False, False, False]  \n",
       "2409  [False, False, False]  [False, False, False]  \n",
       "\n",
       "[2409 rows x 7 columns]"
      ]
     },
     "execution_count": 30,
     "metadata": {},
     "output_type": "execute_result"
    }
   ],
   "source": [
    "data"
   ]
  },
  {
   "cell_type": "code",
   "execution_count": 14,
   "metadata": {},
   "outputs": [],
   "source": [
    "def get_props(subgroup):\n",
    "    all_evaluations = sum(subgroup['evaluations'], [])\n",
    "    all_exact_matches = sum(subgroup['exact_matches'], [])\n",
    "    novel_playable = [(not exact_match) and playable for exact_match, playable in zip(all_exact_matches, all_evaluations)]\n",
    "\n",
    "    prop_playable = 100 * sum(all_evaluations) / len(all_evaluations)\n",
    "    prop_exact_matches = 100 * sum(all_exact_matches) / len(all_exact_matches)\n",
    "    prop_novel_playable = 100 * sum(novel_playable) / len(novel_playable)\n",
    "\n",
    "    return prop_playable, prop_exact_matches, prop_novel_playable"
   ]
  },
  {
   "cell_type": "code",
   "execution_count": 37,
   "metadata": {},
   "outputs": [
    {
     "name": "stdout",
     "output_type": "stream",
     "text": [
      "\n",
      "==================== Temperature: 1.0 ====================\n",
      "\n",
      "======= Split: train =======\n",
      "[OVERALL] 95.24% playable, 84.72% exact matches, 10.72% novel-playable (500 evals)\n",
      "\n",
      "======= Split: val =======\n",
      "[OVERALL] 92.40% playable, 57.56% exact matches, 35.84% novel-playable (500 evals)\n",
      "\n",
      "==================== Temperature: 1.5 ====================\n",
      "\n",
      "======= Split: train =======\n",
      "[OVERALL] 89.72% playable, 79.52% exact matches, 10.40% novel-playable (500 evals)\n",
      "\n",
      "======= Split: val =======\n",
      "[OVERALL] 87.96% playable, 57.40% exact matches, 31.12% novel-playable (500 evals)\n",
      "\n",
      "==================== Temperature: 2.0 ====================\n",
      "\n",
      "======= Split: train =======\n",
      "[OVERALL] 77.52% playable, 75.36% exact matches, 17.00% novel-playable (500 evals)\n",
      "\n",
      "======= Split: val =======\n",
      "[OVERALL] 74.48% playable, 48.68% exact matches, 35.36% novel-playable (500 evals)\n",
      "\n",
      "==================== Temperature: 2.5 ====================\n",
      "\n",
      "======= Split: train =======\n",
      "[OVERALL] 58.12% playable, 59.04% exact matches, 23.00% novel-playable (500 evals)\n",
      "\n",
      "======= Split: val =======\n",
      "[OVERALL] 56.76% playable, 42.04% exact matches, 33.48% novel-playable (500 evals)\n"
     ]
    }
   ],
   "source": [
    "for temperature, group in data.groupby('temperature'):\n",
    "    print(f\"\\n==================== Temperature: {temperature} ====================\")\n",
    "    for split, subgroup in group.groupby('split'):\n",
    "        print(f\"\\n======= Split: {split} =======\")\n",
    "        prop_playable, prop_exact_matches, prop_novel_playable = get_props(subgroup)\n",
    "        print(f\"[OVERALL] {prop_playable:.2f}% playable, {prop_exact_matches:.2f}% exact matches, {prop_novel_playable:.2f}% novel-playable ({len(subgroup)} evals)\")\n",
    "\n",
    "        # for depth, subsubgroup in subgroup.groupby('depth'):\n",
    "        #     prop_playable, prop_exact_matches, prop_novel_playable = get_props(subsubgroup)\n",
    "\n",
    "        #     print(f\"[Depth: {depth}] {prop_playable:.2f}% playable, {prop_exact_matches:.2f}% exact matches, {prop_novel_playable:.2f}% novel-playable ({len(subsubgroup)} evals)\")"
   ]
  },
  {
   "cell_type": "code",
   "execution_count": 20,
   "metadata": {},
   "outputs": [],
   "source": [
    "data = pd.read_json(\"../exp_outputs/mutations.json\")"
   ]
  },
  {
   "cell_type": "code",
   "execution_count": 24,
   "metadata": {},
   "outputs": [
    {
     "data": {
      "text/plain": [
       "Index(['depth', 'trace_score', 'id', 'compilable', 'playable', 'balance',\n",
       "       'drawishness', 'completion', 'mean_turns', 'initial_trace_score',\n",
       "       'initial_compilable', 'initial_playable', 'initial_balance',\n",
       "       'initial_drawishness', 'initial_completion', 'initial_mean_turns'],\n",
       "      dtype='object')"
      ]
     },
     "execution_count": 24,
     "metadata": {},
     "output_type": "execute_result"
    }
   ],
   "source": [
    "data.keys()"
   ]
  },
  {
   "cell_type": "code",
   "execution_count": 21,
   "metadata": {},
   "outputs": [],
   "source": [
    "data = data.drop(columns=[\"game_name\", \"prefix\", \"suffix\", \"output\"])\n",
    "# data = data.drop(columns=[\"game_name\", \"id\"])"
   ]
  },
  {
   "cell_type": "code",
   "execution_count": 23,
   "metadata": {},
   "outputs": [],
   "source": [
    "aggregated = data.groupby(\"id\").mean()"
   ]
  },
  {
   "cell_type": "code",
   "execution_count": 25,
   "metadata": {},
   "outputs": [],
   "source": [
    "for key in [\"drawishness\", \"balance\", \"completion\", \"mean_turns\", \"trace_score\"]:\n",
    "    aggregated[key+\"_delta\"] = aggregated[key] - aggregated[\"initial_\"+key]"
   ]
  },
  {
   "cell_type": "markdown",
   "metadata": {},
   "source": [
    "## Change in Trace Score Caused by Mutation"
   ]
  },
  {
   "cell_type": "code",
   "execution_count": 32,
   "metadata": {},
   "outputs": [
    {
     "data": {
      "text/plain": [
       "<Axes: >"
      ]
     },
     "execution_count": 32,
     "metadata": {},
     "output_type": "execute_result"
    },
    {
     "data": {
      "image/png": "[encoded data removed]",
      "text/plain": [
       "<Figure size 640x480 with 1 Axes>"
      ]
     },
     "metadata": {},
     "output_type": "display_data"
    }
   ],
   "source": [
    "aggregated[\"trace_score_delta\"].hist()"
   ]
  },
  {
   "cell_type": "code",
   "execution_count": 33,
   "metadata": {},
   "outputs": [
    {
     "data": {
      "text/plain": [
       "<Axes: >"
      ]
     },
     "execution_count": 33,
     "metadata": {},
     "output_type": "execute_result"
    },
    {
     "data": {
      "image/png": "[encoded data removed]",
      "text/plain": [
       "<Figure size 640x480 with 1 Axes>"
      ]
     },
     "metadata": {},
     "output_type": "display_data"
    }
   ],
   "source": [
    "aggregated[\"balance_delta\"].hist()"
   ]
  },
  {
   "cell_type": "code",
   "execution_count": 34,
   "metadata": {},
   "outputs": [
    {
     "data": {
      "text/plain": [
       "<Axes: >"
      ]
     },
     "execution_count": 34,
     "metadata": {},
     "output_type": "execute_result"
    },
    {
     "data": {
      "image/png": "[encoded data removed]",
      "text/plain": [
       "<Figure size 640x480 with 1 Axes>"
      ]
     },
     "metadata": {},
     "output_type": "display_data"
    }
   ],
   "source": [
    "aggregated[\"completion_delta\"].hist()"
   ]
  },
  {
   "cell_type": "code",
   "execution_count": 2,
   "metadata": {},
   "outputs": [],
   "source": [
    "data = pd.read_json(\"../results/code-llama-13b-fitm.json\")"
   ]
  },
  {
   "cell_type": "code",
   "execution_count": 16,
   "metadata": {},
   "outputs": [],
   "source": [
    "data[\"prefix_length\"] = data[\"prefix\"].apply(lambda x: len(x))\n",
    "data[\"suffix_length\"] = data[\"suffix\"].apply(lambda x: len(x))\n",
    "data[\"target_length\"] = data[\"target\"].apply(lambda x: len(x))\n",
    "data[\"target_depth\"] = data[\"prefix\"].apply(lambda x: x.count(\"(\") - x.count(\")\"))"
   ]
  },
  {
   "cell_type": "code",
   "execution_count": 17,
   "metadata": {},
   "outputs": [
    {
     "data": {
      "text/html": [
       "<div>\n",
       "<style scoped>\n",
       "    .dataframe tbody tr th:only-of-type {\n",
       "        vertical-align: middle;\n",
       "    }\n",
       "\n",
       "    .dataframe tbody tr th {\n",
       "        vertical-align: top;\n",
       "    }\n",
       "\n",
       "    .dataframe thead th {\n",
       "        text-align: right;\n",
       "    }\n",
       "</style>\n",
       "<table border=\"1\" class=\"dataframe\">\n",
       "  <thead>\n",
       "    <tr style=\"text-align: right;\">\n",
       "      <th></th>\n",
       "      <th>index</th>\n",
       "      <th>prefix</th>\n",
       "      <th>suffix</th>\n",
       "      <th>target</th>\n",
       "      <th>output</th>\n",
       "      <th>game</th>\n",
       "      <th>exact_match</th>\n",
       "      <th>compilable</th>\n",
       "      <th>playable</th>\n",
       "      <th>prefix_length</th>\n",
       "      <th>suffix_length</th>\n",
       "      <th>target_length</th>\n",
       "      <th>target_depth</th>\n",
       "    </tr>\n",
       "  </thead>\n",
       "  <tbody>\n",
       "    <tr>\n",
       "      <th>0</th>\n",
       "      <td>0</td>\n",
       "      <td></td>\n",
       "      <td></td>\n",
       "      <td>(game \"Fettas\" (players 2) (equipment {(board...</td>\n",
       "      <td>(game \"Doov\" (players {(player N) (player S)}...</td>\n",
       "      <td>(game \"Doov\" (players {(player N) (player S)})...</td>\n",
       "      <td>False</td>\n",
       "      <td>True</td>\n",
       "      <td>True</td>\n",
       "      <td>1</td>\n",
       "      <td>2</td>\n",
       "      <td>750</td>\n",
       "      <td>0</td>\n",
       "    </tr>\n",
       "    <tr>\n",
       "      <th>1</th>\n",
       "      <td>1</td>\n",
       "      <td>(game \"Fettas\"</td>\n",
       "      <td>(equipment {(board (concentric Square rings:3...</td>\n",
       "      <td>(players 2)</td>\n",
       "      <td>(players 2)</td>\n",
       "      <td>(game \"Fettas\"   (players 2)  (equipment {(boa...</td>\n",
       "      <td>True</td>\n",
       "      <td>True</td>\n",
       "      <td>True</td>\n",
       "      <td>16</td>\n",
       "      <td>724</td>\n",
       "      <td>13</td>\n",
       "      <td>1</td>\n",
       "    </tr>\n",
       "    <tr>\n",
       "      <th>2</th>\n",
       "      <td>2</td>\n",
       "      <td>(game \"Fettas\" (players 2)</td>\n",
       "      <td>(rules (start (place \"Marker\" \"Hand\" count:11...</td>\n",
       "      <td>(equipment {(board (concentric Square rings:3...</td>\n",
       "      <td>(equipment {(board (square 8)) (piece \"Counte...</td>\n",
       "      <td>(game \"Fettas\" (players 2)   (equipment {(boar...</td>\n",
       "      <td>False</td>\n",
       "      <td>False</td>\n",
       "      <td>False</td>\n",
       "      <td>28</td>\n",
       "      <td>535</td>\n",
       "      <td>190</td>\n",
       "      <td>1</td>\n",
       "    </tr>\n",
       "    <tr>\n",
       "      <th>3</th>\n",
       "      <td>3</td>\n",
       "      <td>(game \"Fettas\" (players 2) (equipment {(board ...</td>\n",
       "      <td>)</td>\n",
       "      <td>(rules (start (place \"Marker\" \"Hand\" count:11...</td>\n",
       "      <td>(rules (start (place \"Marker\" \"Hand\" count:9)...</td>\n",
       "      <td>(game \"Fettas\" (players 2) (equipment {(board ...</td>\n",
       "      <td>False</td>\n",
       "      <td>True</td>\n",
       "      <td>True</td>\n",
       "      <td>217</td>\n",
       "      <td>3</td>\n",
       "      <td>533</td>\n",
       "      <td>1</td>\n",
       "    </tr>\n",
       "    <tr>\n",
       "      <th>4</th>\n",
       "      <td>4</td>\n",
       "      <td>(game \"Fettas\" (players 2) (equipment {</td>\n",
       "      <td>(hand Each) (piece \"Marker\" Each (move Step (...</td>\n",
       "      <td>(board (concentric Square rings:3) use:Vertex)</td>\n",
       "      <td>(board (merge {(rectangle 1 6) (shift 7 0 (re...</td>\n",
       "      <td>(game \"Fettas\" (players 2) (equipment {  (boar...</td>\n",
       "      <td>False</td>\n",
       "      <td>True</td>\n",
       "      <td>True</td>\n",
       "      <td>40</td>\n",
       "      <td>665</td>\n",
       "      <td>48</td>\n",
       "      <td>2</td>\n",
       "    </tr>\n",
       "    <tr>\n",
       "      <th>...</th>\n",
       "      <td>...</td>\n",
       "      <td>...</td>\n",
       "      <td>...</td>\n",
       "      <td>...</td>\n",
       "      <td>...</td>\n",
       "      <td>...</td>\n",
       "      <td>...</td>\n",
       "      <td>...</td>\n",
       "      <td>...</td>\n",
       "      <td>...</td>\n",
       "      <td>...</td>\n",
       "      <td>...</td>\n",
       "      <td>...</td>\n",
       "    </tr>\n",
       "    <tr>\n",
       "      <th>6935</th>\n",
       "      <td>6935</td>\n",
       "      <td>(game \"Wolf and Sheep\" (players 2) (equipment ...</td>\n",
       "      <td>) (result P1 Win)) (if (is In (where \"Wolf\" P2...</td>\n",
       "      <td>(is Mover P2)</td>\n",
       "      <td>(is Mover P1)</td>\n",
       "      <td>(game \"Wolf and Sheep\" (players 2) (equipment ...</td>\n",
       "      <td>False</td>\n",
       "      <td>True</td>\n",
       "      <td>True</td>\n",
       "      <td>341</td>\n",
       "      <td>86</td>\n",
       "      <td>15</td>\n",
       "      <td>5</td>\n",
       "    </tr>\n",
       "    <tr>\n",
       "      <th>6936</th>\n",
       "      <td>6936</td>\n",
       "      <td>(game \"Wolf and Sheep\" (players 2) (equipment ...</td>\n",
       "      <td>(sites Bottom)) (result P2 Win))})))</td>\n",
       "      <td>(where \"Wolf\" P2)</td>\n",
       "      <td>(where \"Wolf\" P2)</td>\n",
       "      <td>(game \"Wolf and Sheep\" (players 2) (equipment ...</td>\n",
       "      <td>True</td>\n",
       "      <td>True</td>\n",
       "      <td>True</td>\n",
       "      <td>384</td>\n",
       "      <td>39</td>\n",
       "      <td>19</td>\n",
       "      <td>5</td>\n",
       "    </tr>\n",
       "    <tr>\n",
       "      <th>6937</th>\n",
       "      <td>6937</td>\n",
       "      <td>(game \"Wolf and Sheep\" (players 2) (equipment ...</td>\n",
       "      <td>) (result P2 Win))})))</td>\n",
       "      <td>(sites Bottom)</td>\n",
       "      <td>(sites Phase 0)</td>\n",
       "      <td>(game \"Wolf and Sheep\" (players 2) (equipment ...</td>\n",
       "      <td>False</td>\n",
       "      <td>True</td>\n",
       "      <td>False</td>\n",
       "      <td>402</td>\n",
       "      <td>24</td>\n",
       "      <td>16</td>\n",
       "      <td>5</td>\n",
       "    </tr>\n",
       "    <tr>\n",
       "      <th>6938</th>\n",
       "      <td>6938</td>\n",
       "      <td>(game \"Wolf and Sheep\" (players 2) (equipment ...</td>\n",
       "      <td>)))) (piece \"Wolf\" P2 (move Step Diagonal (to ...</td>\n",
       "      <td>(to)</td>\n",
       "      <td>(to)</td>\n",
       "      <td>(game \"Wolf and Sheep\" (players 2) (equipment ...</td>\n",
       "      <td>True</td>\n",
       "      <td>True</td>\n",
       "      <td>True</td>\n",
       "      <td>136</td>\n",
       "      <td>300</td>\n",
       "      <td>6</td>\n",
       "      <td>6</td>\n",
       "    </tr>\n",
       "    <tr>\n",
       "      <th>6939</th>\n",
       "      <td>6939</td>\n",
       "      <td>(game \"Wolf and Sheep\" (players 2) (equipment ...</td>\n",
       "      <td>))))}) (rules (start {(place \"Wolf2\" {\"D8\"}) (...</td>\n",
       "      <td>(to)</td>\n",
       "      <td>(to)</td>\n",
       "      <td>(game \"Wolf and Sheep\" (players 2) (equipment ...</td>\n",
       "      <td>True</td>\n",
       "      <td>True</td>\n",
       "      <td>True</td>\n",
       "      <td>199</td>\n",
       "      <td>237</td>\n",
       "      <td>6</td>\n",
       "      <td>6</td>\n",
       "    </tr>\n",
       "  </tbody>\n",
       "</table>\n",
       "<p>6940 rows × 13 columns</p>\n",
       "</div>"
      ],
      "text/plain": [
       "      index                                             prefix  \\\n",
       "0         0                                                      \n",
       "1         1                                   (game \"Fettas\"     \n",
       "2         2                       (game \"Fettas\" (players 2)     \n",
       "3         3  (game \"Fettas\" (players 2) (equipment {(board ...   \n",
       "4         4           (game \"Fettas\" (players 2) (equipment {    \n",
       "...     ...                                                ...   \n",
       "6935   6935  (game \"Wolf and Sheep\" (players 2) (equipment ...   \n",
       "6936   6936  (game \"Wolf and Sheep\" (players 2) (equipment ...   \n",
       "6937   6937  (game \"Wolf and Sheep\" (players 2) (equipment ...   \n",
       "6938   6938  (game \"Wolf and Sheep\" (players 2) (equipment ...   \n",
       "6939   6939  (game \"Wolf and Sheep\" (players 2) (equipment ...   \n",
       "\n",
       "                                                 suffix  \\\n",
       "0                                                         \n",
       "1      (equipment {(board (concentric Square rings:3...   \n",
       "2      (rules (start (place \"Marker\" \"Hand\" count:11...   \n",
       "3                                                   )     \n",
       "4      (hand Each) (piece \"Marker\" Each (move Step (...   \n",
       "...                                                 ...   \n",
       "6935  ) (result P1 Win)) (if (is In (where \"Wolf\" P2...   \n",
       "6936             (sites Bottom)) (result P2 Win))})))     \n",
       "6937                           ) (result P2 Win))})))     \n",
       "6938  )))) (piece \"Wolf\" P2 (move Step Diagonal (to ...   \n",
       "6939  ))))}) (rules (start {(place \"Wolf2\" {\"D8\"}) (...   \n",
       "\n",
       "                                                 target  \\\n",
       "0      (game \"Fettas\" (players 2) (equipment {(board...   \n",
       "1                                          (players 2)    \n",
       "2      (equipment {(board (concentric Square rings:3...   \n",
       "3      (rules (start (place \"Marker\" \"Hand\" count:11...   \n",
       "4       (board (concentric Square rings:3) use:Vertex)    \n",
       "...                                                 ...   \n",
       "6935                                     (is Mover P2)    \n",
       "6936                                 (where \"Wolf\" P2)    \n",
       "6937                                    (sites Bottom)    \n",
       "6938                                              (to)    \n",
       "6939                                              (to)    \n",
       "\n",
       "                                                 output  \\\n",
       "0      (game \"Doov\" (players {(player N) (player S)}...   \n",
       "1                                          (players 2)    \n",
       "2      (equipment {(board (square 8)) (piece \"Counte...   \n",
       "3      (rules (start (place \"Marker\" \"Hand\" count:9)...   \n",
       "4      (board (merge {(rectangle 1 6) (shift 7 0 (re...   \n",
       "...                                                 ...   \n",
       "6935                                     (is Mover P1)    \n",
       "6936                                 (where \"Wolf\" P2)    \n",
       "6937                                   (sites Phase 0)    \n",
       "6938                                              (to)    \n",
       "6939                                              (to)    \n",
       "\n",
       "                                                   game  exact_match  \\\n",
       "0     (game \"Doov\" (players {(player N) (player S)})...        False   \n",
       "1     (game \"Fettas\"   (players 2)  (equipment {(boa...         True   \n",
       "2     (game \"Fettas\" (players 2)   (equipment {(boar...        False   \n",
       "3     (game \"Fettas\" (players 2) (equipment {(board ...        False   \n",
       "4     (game \"Fettas\" (players 2) (equipment {  (boar...        False   \n",
       "...                                                 ...          ...   \n",
       "6935  (game \"Wolf and Sheep\" (players 2) (equipment ...        False   \n",
       "6936  (game \"Wolf and Sheep\" (players 2) (equipment ...         True   \n",
       "6937  (game \"Wolf and Sheep\" (players 2) (equipment ...        False   \n",
       "6938  (game \"Wolf and Sheep\" (players 2) (equipment ...         True   \n",
       "6939  (game \"Wolf and Sheep\" (players 2) (equipment ...         True   \n",
       "\n",
       "      compilable  playable  prefix_length  suffix_length  target_length  \\\n",
       "0           True      True              1              2            750   \n",
       "1           True      True             16            724             13   \n",
       "2          False     False             28            535            190   \n",
       "3           True      True            217              3            533   \n",
       "4           True      True             40            665             48   \n",
       "...          ...       ...            ...            ...            ...   \n",
       "6935        True      True            341             86             15   \n",
       "6936        True      True            384             39             19   \n",
       "6937        True     False            402             24             16   \n",
       "6938        True      True            136            300              6   \n",
       "6939        True      True            199            237              6   \n",
       "\n",
       "      target_depth  \n",
       "0                0  \n",
       "1                1  \n",
       "2                1  \n",
       "3                1  \n",
       "4                2  \n",
       "...            ...  \n",
       "6935             5  \n",
       "6936             5  \n",
       "6937             5  \n",
       "6938             6  \n",
       "6939             6  \n",
       "\n",
       "[6940 rows x 13 columns]"
      ]
     },
     "execution_count": 17,
     "metadata": {},
     "output_type": "execute_result"
    }
   ],
   "source": [
    "data"
   ]
  },
  {
   "cell_type": "code",
   "execution_count": 18,
   "metadata": {},
   "outputs": [
    {
     "name": "stdout",
     "output_type": "stream",
     "text": [
      "Correlation between prefix length and exact match: 0.19602798173057454\n",
      "Correlation between suffix length and exact match: 0.05510079210307553\n",
      "Correlation between target length and exact match: -0.35529249092146986\n",
      "Correlation between target depth and exact match: 0.3598915888289494\n"
     ]
    }
   ],
   "source": [
    "print(f\"Correlation between prefix length and exact match: {data['prefix_length'].corr(data['exact_match'])}\")\n",
    "print(f\"Correlation between suffix length and exact match: {data['suffix_length'].corr(data['exact_match'])}\")\n",
    "print(f\"Correlation between target length and exact match: {data['target_length'].corr(data['exact_match'])}\")\n",
    "print(f\"Correlation between target depth and exact match: {data['target_depth'].corr(data['exact_match'])}\")"
   ]
  },
  {
   "cell_type": "code",
   "execution_count": 19,
   "metadata": {},
   "outputs": [
    {
     "name": "stdout",
     "output_type": "stream",
     "text": [
      "Correlation between prefix length and compilability: 0.09756971220493903\n",
      "Correlation between suffix length and compilability: -0.013678262862318163\n",
      "Correlation between target length and compilability: -0.15418499654779808\n",
      "Correlation between target depth and compilability: 0.1373216574732629\n"
     ]
    }
   ],
   "source": [
    "print(f\"Correlation between prefix length and compilability: {data['prefix_length'].corr(data['compilable'])}\")\n",
    "print(f\"Correlation between suffix length and compilability: {data['suffix_length'].corr(data['compilable'])}\")\n",
    "print(f\"Correlation between target length and compilability: {data['target_length'].corr(data['compilable'])}\")\n",
    "print(f\"Correlation between target depth and compilability: {data['target_depth'].corr(data['compilable'])}\")"
   ]
  },
  {
   "cell_type": "code",
   "execution_count": 9,
   "metadata": {},
   "outputs": [
    {
     "data": {
      "text/plain": [
       "playable\n",
       "True     1814\n",
       "False     321\n",
       "Name: count, dtype: int64"
      ]
     },
     "execution_count": 9,
     "metadata": {},
     "output_type": "execute_result"
    }
   ],
   "source": [
    "data[data[\"exact_match\"] == False][\"playable\"].value_counts()"
   ]
  }
 ],
 "metadata": {
  "kernelspec": {
   "display_name": "ludii-lms",
   "language": "python",
   "name": "python3"
  },
  "language_info": {
   "codemirror_mode": {
    "name": "ipython",
    "version": 3
   },
   "file_extension": ".py",
   "mimetype": "text/x-python",
   "name": "python",
   "nbconvert_exporter": "python",
   "pygments_lexer": "ipython3",
   "version": "3.10.6"
  }
 },
 "nbformat": 4,
 "nbformat_minor": 2
}

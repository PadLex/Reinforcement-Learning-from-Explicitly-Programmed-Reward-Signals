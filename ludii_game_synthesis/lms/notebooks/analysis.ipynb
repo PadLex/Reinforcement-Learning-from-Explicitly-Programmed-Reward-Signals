{
 "cells": [
  {
   "cell_type": "code",
   "execution_count": 17,
   "metadata": {},
   "outputs": [
    {
     "data": {
      "text/plain": [
       "True"
      ]
     },
     "execution_count": 17,
     "metadata": {},
     "output_type": "execute_result"
    }
   ],
   "source": [
    "import argparse\n",
    "from collections import defaultdict\n",
    "import difflib\n",
    "import json\n",
    "import os\n",
    "import pickle\n",
    "import re\n",
    "import sys\n",
    "\n",
    "from datasets import load_dataset\n",
    "from dotenv import load_dotenv\n",
    "import inflect\n",
    "import ipywidgets as widgets\n",
    "import matplotlib.pyplot as plt\n",
    "import numpy as np\n",
    "import pandas as pd\n",
    "import scipy.stats as stats\n",
    "from tqdm import tqdm\n",
    "\n",
    "sys.path.append(os.path.abspath('..'))\n",
    "from evolution import ArchiveGame, MAPElitesArchive\n",
    "from java_api import Novelty\n",
    "from java_helpers import SYNTACTIC_BEHAVIORAL_CHARACTERISTICS, SEMANTIC_BEHAVIORAL_CHARACTERISTICS\n",
    "from ludii_datasets import _mask_names\n",
    "from utils import format_single_line_game, pretty_format_single_line_game, format_multi_line_game\n",
    "\n",
    "load_dotenv()"
   ]
  },
  {
   "cell_type": "code",
   "execution_count": 2,
   "metadata": {},
   "outputs": [
    {
     "data": {
      "application/vnd.jupyter.widget-view+json": {
       "model_id": "decad2b7debd492b912cdffea7dc9319",
       "version_major": 2,
       "version_minor": 0
      },
      "text/plain": [
       "Dropdown(description='Experiment directory:', options=('.DS_Store', 'semantic_features_map_elites', 'sample_ga…"
      ]
     },
     "execution_count": 2,
     "metadata": {},
     "output_type": "execute_result"
    }
   ],
   "source": [
    "DATA_DIR = '../exp_outputs'\n",
    "dropdown = widgets.Dropdown(\n",
    "    options=os.listdir(DATA_DIR),\n",
    "    description='Experiment directory:',\n",
    "    disabled=False,\n",
    "    style={'description_width': 'initial'}\n",
    ")\n",
    "dropdown"
   ]
  },
  {
   "cell_type": "code",
   "execution_count": 3,
   "metadata": {},
   "outputs": [],
   "source": [
    "# Load run stats JSON into dataframe\n",
    "run_stats = pd.read_json(os.path.join(DATA_DIR, dropdown.value, 'run_stats.json'))\n",
    "\n",
    "# Load the final archive state\n",
    "last_epoch = -1\n",
    "for path in os.listdir(os.path.join(DATA_DIR, dropdown.value)):\n",
    "    if path.startswith('archive'):\n",
    "        epoch = int(path.split('_')[1].split('.')[0])\n",
    "        if epoch > last_epoch:\n",
    "            last_epoch = epoch\n",
    "\n",
    "with open(os.path.join(DATA_DIR, dropdown.value, f'archive_{last_epoch}.pkl'), 'rb') as f:\n",
    "    archive = pickle.load(f)"
   ]
  },
  {
   "cell_type": "code",
   "execution_count": 4,
   "metadata": {},
   "outputs": [
    {
     "data": {
      "text/plain": [
       "<Axes: >"
      ]
     },
     "execution_count": 4,
     "metadata": {},
     "output_type": "execute_result"
    },
    {
     "data": {
      "image/png": "[encoded data removed]",
      "text/plain": [
       "<Figure size 640x480 with 1 Axes>"
      ]
     },
     "metadata": {},
     "output_type": "display_data"
    }
   ],
   "source": [
    "run_stats[\"successful_mutations\"].plot()"
   ]
  },
  {
   "cell_type": "code",
   "execution_count": 18,
   "metadata": {},
   "outputs": [],
   "source": [
    "# Load run arguments\n",
    "run_args = argparse.Namespace() \n",
    "run_args.__dict__ = json.load(open(os.path.join(DATA_DIR, dropdown.value, \"run_args.json\"), \"r\"))"
   ]
  },
  {
   "cell_type": "code",
   "execution_count": 10,
   "metadata": {},
   "outputs": [],
   "source": [
    "dataset_train = load_dataset(run_args['model_name'] + '-base-data', split='train', token=os.environ[\"HF_TOKEN\"])\n",
    "dataset_val = load_dataset(run_args['model_name'] + '-base-data', split='val', token=os.environ[\"HF_TOKEN\"])\n",
    "dataset_test = load_dataset(run_args['model_name'] + '-base-data', split='test', token=os.environ[\"HF_TOKEN\"])"
   ]
  },
  {
   "cell_type": "code",
   "execution_count": 20,
   "metadata": {},
   "outputs": [
    {
     "ename": "KeyboardInterrupt",
     "evalue": "",
     "output_type": "error",
     "traceback": [
      "\u001b[0;31m---------------------------------------------------------------------------\u001b[0m",
      "\u001b[0;31mKeyboardInterrupt\u001b[0m                         Traceback (most recent call last)",
      "Input \u001b[0;32mIn [20]\u001b[0m, in \u001b[0;36m<cell line: 6>\u001b[0;34m()\u001b[0m\n\u001b[1;32m      3\u001b[0m \u001b[38;5;28;01melif\u001b[39;00m run_args\u001b[38;5;241m.\u001b[39mbc_type \u001b[38;5;241m==\u001b[39m \u001b[38;5;124m\"\u001b[39m\u001b[38;5;124msemantic\u001b[39m\u001b[38;5;124m\"\u001b[39m:\n\u001b[1;32m      4\u001b[0m     bc_concepts \u001b[38;5;241m=\u001b[39m SEMANTIC_BEHAVIORAL_CHARACTERISTICS\n\u001b[0;32m----> 6\u001b[0m dummy_archive \u001b[38;5;241m=\u001b[39m \u001b[43mMAPElitesArchive\u001b[49m\u001b[43m(\u001b[49m\u001b[43mbc_concepts\u001b[49m\u001b[43m,\u001b[49m\u001b[43m \u001b[49m\u001b[38;5;28;43;01mNone\u001b[39;49;00m\u001b[43m)\u001b[49m\n\u001b[1;32m      8\u001b[0m train_cells \u001b[38;5;241m=\u001b[39m \u001b[38;5;28mset\u001b[39m([dummy_archive\u001b[38;5;241m.\u001b[39m_get_cell(ArchiveGame(game, [], [], [], \u001b[38;5;241m0\u001b[39m)) \u001b[38;5;28;01mfor\u001b[39;00m game \u001b[38;5;129;01min\u001b[39;00m tqdm(dataset_train[\u001b[38;5;124m'\u001b[39m\u001b[38;5;124mbase_game\u001b[39m\u001b[38;5;124m'\u001b[39m], desc\u001b[38;5;241m=\u001b[39m\u001b[38;5;124m\"\u001b[39m\u001b[38;5;124mDeterminings cells for training games\u001b[39m\u001b[38;5;124m\"\u001b[39m)])\n\u001b[1;32m      9\u001b[0m val_cells \u001b[38;5;241m=\u001b[39m \u001b[38;5;28mset\u001b[39m([dummy_archive\u001b[38;5;241m.\u001b[39m_get_cell(ArchiveGame(game, [], [], [], \u001b[38;5;241m0\u001b[39m)) \u001b[38;5;28;01mfor\u001b[39;00m game \u001b[38;5;129;01min\u001b[39;00m tqdm(dataset_val[\u001b[38;5;124m'\u001b[39m\u001b[38;5;124mbase_game\u001b[39m\u001b[38;5;124m'\u001b[39m], desc\u001b[38;5;241m=\u001b[39m\u001b[38;5;124m\"\u001b[39m\u001b[38;5;124mDeterminings cells for validation games\u001b[39m\u001b[38;5;124m\"\u001b[39m)])\n",
      "File \u001b[0;32m~/projects/ludii-lms/evolution.py:200\u001b[0m, in \u001b[0;36mMAPElitesArchive.__init__\u001b[0;34m(self, concept_list, entries_per_cell)\u001b[0m\n\u001b[1;32m    195\u001b[0m \u001b[38;5;28;01mdef\u001b[39;00m \u001b[38;5;21m__init__\u001b[39m(\u001b[38;5;28mself\u001b[39m,\n\u001b[1;32m    196\u001b[0m              concept_list: \u001b[38;5;28mlist\u001b[39m,\n\u001b[1;32m    197\u001b[0m              entries_per_cell: \u001b[38;5;28mint\u001b[39m):\n\u001b[1;32m    199\u001b[0m     \u001b[38;5;28mself\u001b[39m\u001b[38;5;241m.\u001b[39mconcept_idxs \u001b[38;5;241m=\u001b[39m [CONCEPT_NAMES\u001b[38;5;241m.\u001b[39mindex(concept) \u001b[38;5;28;01mfor\u001b[39;00m concept \u001b[38;5;129;01min\u001b[39;00m concept_list]\n\u001b[0;32m--> 200\u001b[0m     \u001b[38;5;28mself\u001b[39m\u001b[38;5;241m.\u001b[39mconcept_generator \u001b[38;5;241m=\u001b[39m \u001b[43mConcepts\u001b[49m\u001b[43m(\u001b[49m\u001b[43m)\u001b[49m\n\u001b[1;32m    201\u001b[0m     \u001b[38;5;28mself\u001b[39m\u001b[38;5;241m.\u001b[39mentries_per_cell \u001b[38;5;241m=\u001b[39m entries_per_cell\n\u001b[1;32m    203\u001b[0m     \u001b[38;5;66;03m# Maps from a BC tuple to a list of ArchiveGame objects of length entries_per_cell\u001b[39;00m\n",
      "File \u001b[0;32m~/projects/ludii-lms/java_api.py:358\u001b[0m, in \u001b[0;36mConcepts.__init__\u001b[0;34m(self, bitecode_path, verbose)\u001b[0m\n\u001b[1;32m    357\u001b[0m \u001b[38;5;28;01mdef\u001b[39;00m \u001b[38;5;21m__init__\u001b[39m(\u001b[38;5;28mself\u001b[39m, bitecode_path: \u001b[38;5;28mstr\u001b[39m \u001b[38;5;241m=\u001b[39m default_bytecode_path, verbose\u001b[38;5;241m=\u001b[39m\u001b[38;5;28;01mFalse\u001b[39;00m):\n\u001b[0;32m--> 358\u001b[0m     \u001b[38;5;28;43msuper\u001b[39;49m\u001b[43m(\u001b[49m\u001b[43m)\u001b[49m\u001b[38;5;241;43m.\u001b[39;49m\u001b[38;5;21;43m__init__\u001b[39;49m\u001b[43m(\u001b[49m\u001b[38;5;124;43m'\u001b[39;49m\u001b[38;5;124;43mapproaches.symbolic.api.CompleteConceptEndpoint\u001b[39;49m\u001b[38;5;124;43m'\u001b[39;49m\u001b[43m,\u001b[49m\u001b[43m \u001b[49m\u001b[38;5;124;43m'\u001b[39;49m\u001b[38;5;124;43mconcept\u001b[39;49m\u001b[38;5;124;43m'\u001b[39;49m\u001b[43m,\u001b[49m\u001b[43m \u001b[49m\u001b[43mbitecode_path\u001b[49m\u001b[43m,\u001b[49m\u001b[43m \u001b[49m\u001b[43mverbose\u001b[49m\u001b[43m)\u001b[49m\n",
      "File \u001b[0;32m~/projects/ludii-lms/java_api.py:55\u001b[0m, in \u001b[0;36mJavaInterface.__init__\u001b[0;34m(self, classpath, name, bitecode_path, verbose)\u001b[0m\n\u001b[1;32m     52\u001b[0m \u001b[38;5;28;01mif\u001b[39;00m \u001b[38;5;28mself\u001b[39m\u001b[38;5;241m.\u001b[39mverbose:\n\u001b[1;32m     53\u001b[0m     \u001b[38;5;28mprint\u001b[39m(\u001b[38;5;124m\"\u001b[39m\u001b[38;5;124mJava command: \u001b[39m\u001b[38;5;124m\"\u001b[39m \u001b[38;5;241m+\u001b[39m \u001b[38;5;124m'\u001b[39m\u001b[38;5;124m \u001b[39m\u001b[38;5;124m'\u001b[39m\u001b[38;5;241m.\u001b[39mjoin(\u001b[38;5;28mself\u001b[39m\u001b[38;5;241m.\u001b[39mcommand))\n\u001b[0;32m---> 55\u001b[0m \u001b[38;5;28;43mself\u001b[39;49m\u001b[38;5;241;43m.\u001b[39;49m\u001b[43m_restart\u001b[49m\u001b[43m(\u001b[49m\u001b[43m)\u001b[49m\n",
      "File \u001b[0;32m~/projects/ludii-lms/java_api.py:86\u001b[0m, in \u001b[0;36mJavaInterface._restart\u001b[0;34m(self)\u001b[0m\n\u001b[1;32m     83\u001b[0m     \u001b[38;5;28mprint\u001b[39m(\u001b[38;5;124mf\u001b[39m\u001b[38;5;124m'\u001b[39m\u001b[38;5;124mStarted java \u001b[39m\u001b[38;5;132;01m{\u001b[39;00m\u001b[38;5;28mself\u001b[39m\u001b[38;5;241m.\u001b[39mname\u001b[38;5;132;01m}\u001b[39;00m\u001b[38;5;124m process...\u001b[39m\u001b[38;5;124m'\u001b[39m)\n\u001b[1;32m     85\u001b[0m \u001b[38;5;28;01mwhile\u001b[39;00m \u001b[38;5;28;01mTrue\u001b[39;00m:\n\u001b[0;32m---> 86\u001b[0m     line \u001b[38;5;241m=\u001b[39m \u001b[38;5;28;43mself\u001b[39;49m\u001b[38;5;241;43m.\u001b[39;49m\u001b[43m_read\u001b[49m\u001b[43m(\u001b[49m\u001b[43m)\u001b[49m\n\u001b[1;32m     87\u001b[0m     \u001b[38;5;28;01mif\u001b[39;00m \u001b[38;5;28mself\u001b[39m\u001b[38;5;241m.\u001b[39mverbose: \u001b[38;5;28mprint\u001b[39m(line)\n\u001b[1;32m     88\u001b[0m     \u001b[38;5;28;01mif\u001b[39;00m \u001b[38;5;124m\"\u001b[39m\u001b[38;5;124mReady\u001b[39m\u001b[38;5;124m\"\u001b[39m \u001b[38;5;129;01min\u001b[39;00m line:\n",
      "File \u001b[0;32m~/projects/ludii-lms/java_api.py:94\u001b[0m, in \u001b[0;36mJavaInterface._read\u001b[0;34m(self)\u001b[0m\n\u001b[1;32m     93\u001b[0m \u001b[38;5;28;01mdef\u001b[39;00m \u001b[38;5;21m_read\u001b[39m(\u001b[38;5;28mself\u001b[39m):\n\u001b[0;32m---> 94\u001b[0m     \u001b[38;5;28;01mreturn\u001b[39;00m \u001b[38;5;28;43mself\u001b[39;49m\u001b[38;5;241;43m.\u001b[39;49m\u001b[43mjava_process\u001b[49m\u001b[38;5;241;43m.\u001b[39;49m\u001b[43mstdout\u001b[49m\u001b[38;5;241;43m.\u001b[39;49m\u001b[43mreadline\u001b[49m\u001b[43m(\u001b[49m\u001b[43m)\u001b[49m\u001b[38;5;241m.\u001b[39mdecode(\u001b[38;5;124m\"\u001b[39m\u001b[38;5;124mutf-8\u001b[39m\u001b[38;5;124m\"\u001b[39m)\u001b[38;5;241m.\u001b[39mreplace(\u001b[38;5;124m\"\u001b[39m\u001b[38;5;130;01m\\n\u001b[39;00m\u001b[38;5;124m\"\u001b[39m, \u001b[38;5;124m\"\u001b[39m\u001b[38;5;124m\"\u001b[39m)\u001b[38;5;241m.\u001b[39mreplace(\u001b[38;5;124m\"\u001b[39m\u001b[38;5;130;01m\\\\\u001b[39;00m\u001b[38;5;124mn\u001b[39m\u001b[38;5;124m\"\u001b[39m, \u001b[38;5;124m\"\u001b[39m\u001b[38;5;130;01m\\n\u001b[39;00m\u001b[38;5;124m\"\u001b[39m)\n",
      "\u001b[0;31mKeyboardInterrupt\u001b[0m: "
     ]
    }
   ],
   "source": [
    "if run_args.bc_type == \"syntactic\":\n",
    "    bc_concepts = SYNTACTIC_BEHAVIORAL_CHARACTERISTICS\n",
    "elif run_args.bc_type == \"semantic\":\n",
    "    bc_concepts = SEMANTIC_BEHAVIORAL_CHARACTERISTICS\n",
    "\n",
    "dummy_archive = MAPElitesArchive(bc_concepts, None)\n",
    "\n",
    "train_cells = set([dummy_archive._get_cell(ArchiveGame(game, [], [], [], 0)) for game in tqdm(dataset_train['base_game'], desc=\"Determinings cells for training games\")])\n",
    "val_cells = set([dummy_archive._get_cell(ArchiveGame(game, [], [], [], 0)) for game in tqdm(dataset_val['base_game'], desc=\"Determinings cells for validation games\")])\n",
    "test_cells = set([dummy_archive._get_cell(ArchiveGame(game, [], [], [], 0)) for game in tqdm(dataset_test['base_game'], desc=\"Determinings cells for testing games\")])\n",
    "\n",
    "novel_cells = defaultdict(list)\n",
    "for cell, games in archive.items():\n",
    "    if cell not in train_cells:\n",
    "        novel_cells['train'].append(cell)\n",
    "    if cell not in val_cells:\n",
    "        novel_cells['val'].append(cell)\n",
    "    if cell not in test_cells:\n",
    "        novel_cells['test'].append(cell)\n",
    "\n",
    "    if cell not in train_cells and cell not in val_cells and cell not in test_cells:\n",
    "        novel_cells['any'].append(cell)"
   ]
  },
  {
   "cell_type": "code",
   "execution_count": 29,
   "metadata": {},
   "outputs": [],
   "source": [
    "# Load the post-run evaluations (i.e. the set of games that were in completely novel cells) and find them in the archive\n",
    "post_run_evals = pd.read_json(os.path.join(DATA_DIR, dropdown.value, 'post_run_evaluations.json'))\n",
    "\n",
    "novel_games = []\n",
    "for game in sum(archive.values(), []):\n",
    "    if game.game_str in post_run_evals['game_str'].values:\n",
    "        novel_games.append(game)"
   ]
  },
  {
   "cell_type": "code",
   "execution_count": 35,
   "metadata": {},
   "outputs": [],
   "source": [
    "# HARDCODED\n",
    "idx = 1"
   ]
  },
  {
   "cell_type": "code",
   "execution_count": 36,
   "metadata": {},
   "outputs": [
    {
     "name": "stdout",
     "output_type": "stream",
     "text": [
      "\n",
      "\n",
      "Diff between lineage games 0 and 1:\n",
      "--- file1\n",
      "+++ file2\n",
      "@@ -20,9 +20,30 @@\n",
      "                             ))\n",
      "                     ))\n",
      "                     (move Slide Orthogonal \n",
      "-                        (then (if (not \n",
      "-                                    (is Prev Mover)\n",
      "-                        ) (moveAgain)))\n",
      "+                        (then  (and \n",
      "+                                (custodial \n",
      "+                                    (from (last To))\n",
      "+                                    Orthogonal \n",
      "+                                    (between \n",
      "+                                        (max 1)\n",
      "+                                        if:\n",
      "+                                        (is Enemy (who at:\n",
      "+                                                (between)\n",
      "+                                        ))\n",
      "+                                        (apply \n",
      "+                                            (remove \n",
      "+                                                (between)\n",
      "+                                            )\n",
      "+                                        )\n",
      "+                                    )\n",
      "+                                    (to if:(is Friend (who at:\n",
      "+                                                (to)\n",
      "+                                    )))\n",
      "+                                )\n",
      "+                                (set Score P1 \n",
      "+                                    (count Sites in:(sites Occupied by:P1))\n",
      "+                                )\n",
      "+                        ) )\n",
      "                     )\n",
      "                 )\n",
      "             )\n",
      "\n",
      "\n",
      "Diff between final lineage game and current game:\n",
      "--- file1\n",
      "+++ file2\n",
      "@@ -9,16 +9,20 @@\n",
      "                 (or \n",
      "                     (if (not \n",
      "                             (is Prev Mover)\n",
      "-                        ) \n",
      "-                        (move Step Diagonal \n",
      "-                            (to if:(is Enemy (who at:\n",
      "-                                        (to)\n",
      "-                                    )) (apply \n",
      "+                        )  \n",
      "+                        (move Hop Diagonal \n",
      "+                            (between if:\n",
      "+                                (is Enemy (who at:\n",
      "+                                        (between)\n",
      "+                                ))\n",
      "+                                (apply \n",
      "                                     (remove \n",
      "-                                        (to)\n",
      "+                                        (between)\n",
      "                                     )\n",
      "-                            ))\n",
      "-                    ))\n",
      "+                                )\n",
      "+                            )\n",
      "+                            (to if:(is Empty (to)))\n",
      "+                    ) )\n",
      "                     (move Slide Orthogonal \n",
      "                         (then  (and \n",
      "                                 (custodial \n"
     ]
    }
   ],
   "source": [
    "for lineage_idx in range(len(novel_games[idx].lineage)-1):\n",
    "    cur_game = pretty_format_single_line_game(novel_games[idx].lineage[lineage_idx])\n",
    "    next_game = pretty_format_single_line_game(novel_games[idx].lineage[lineage_idx+1])\n",
    "\n",
    "    print(f\"\\n\\nDiff between lineage games {lineage_idx} and {lineage_idx+1}:\")\n",
    "    for line in difflib.unified_diff(cur_game.splitlines(), next_game.splitlines(), fromfile='file1', tofile='file2', lineterm=''):\n",
    "        print(line)\n",
    "\n",
    "cur_game = pretty_format_single_line_game(novel_games[idx].lineage[-1])\n",
    "next_game = pretty_format_single_line_game(novel_games[idx].game_str)\n",
    "print(f\"\\n\\nDiff between final lineage game and current game:\")\n",
    "for line in difflib.unified_diff(cur_game.splitlines(), next_game.splitlines(), fromfile='file1', tofile='file2', lineterm=''):\n",
    "    print(line)"
   ]
  },
  {
   "cell_type": "code",
   "execution_count": 43,
   "metadata": {},
   "outputs": [
    {
     "name": "stdout",
     "output_type": "stream",
     "text": [
      "Original game is: Breakthru\n"
     ]
    }
   ],
   "source": [
    "for game in dataset_val:\n",
    "    if game['base_game'] == novel_games[idx].lineage[0]:\n",
    "        print(f\"Original game is: {game['name']}\")"
   ]
  },
  {
   "cell_type": "code",
   "execution_count": 45,
   "metadata": {},
   "outputs": [
    {
     "name": "stdout",
     "output_type": "stream",
     "text": [
      "\n",
      "\n",
      "Diff between original game and final game:\n",
      "--- Original Game\n",
      "+++ Final Game\n",
      "@@ -9,20 +9,45 @@\n",
      "                 (or \n",
      "                     (if (not \n",
      "                             (is Prev Mover)\n",
      "-                        ) \n",
      "-                        (move Step Diagonal \n",
      "-                            (to if:(is Enemy (who at:\n",
      "-                                        (to)\n",
      "-                                    )) (apply \n",
      "+                        )  \n",
      "+                        (move Hop Diagonal \n",
      "+                            (between if:\n",
      "+                                (is Enemy (who at:\n",
      "+                                        (between)\n",
      "+                                ))\n",
      "+                                (apply \n",
      "                                     (remove \n",
      "-                                        (to)\n",
      "+                                        (between)\n",
      "                                     )\n",
      "-                            ))\n",
      "-                    ))\n",
      "+                                )\n",
      "+                            )\n",
      "+                            (to if:(is Empty (to)))\n",
      "+                    ) )\n",
      "                     (move Slide Orthogonal \n",
      "-                        (then (if (not \n",
      "-                                    (is Prev Mover)\n",
      "-                        ) (moveAgain)))\n",
      "+                        (then  (and \n",
      "+                                (custodial \n",
      "+                                    (from (last To))\n",
      "+                                    Orthogonal \n",
      "+                                    (between \n",
      "+                                        (max 1)\n",
      "+                                        if:\n",
      "+                                        (is Enemy (who at:\n",
      "+                                                (between)\n",
      "+                                        ))\n",
      "+                                        (apply \n",
      "+                                            (remove \n",
      "+                                                (between)\n",
      "+                                            )\n",
      "+                                        )\n",
      "+                                    )\n",
      "+                                    (to if:(is Friend (who at:\n",
      "+                                                (to)\n",
      "+                                    )))\n",
      "+                                )\n",
      "+                                (set Score P1 \n",
      "+                                    (count Sites in:(sites Occupied by:P1))\n",
      "+                                )\n",
      "+                        ) )\n",
      "                     )\n",
      "                 )\n",
      "             )\n"
     ]
    }
   ],
   "source": [
    "orig_game = pretty_format_single_line_game(novel_games[idx].lineage[0])\n",
    "cur_game = pretty_format_single_line_game(novel_games[idx].game_str)\n",
    "print(f\"\\n\\nDiff between original game and final game:\")\n",
    "for line in difflib.unified_diff(orig_game.splitlines(), cur_game.splitlines(), fromfile='Original Game', tofile='Final Game', lineterm=''):\n",
    "    print(line)"
   ]
  },
  {
   "cell_type": "code",
   "execution_count": 11,
   "metadata": {},
   "outputs": [],
   "source": [
    "engine = inflect.engine()\n",
    "def format(game_str):\n",
    "    game_str = _mask_names(game_str, engine)\n",
    "    game_str = re.sub(r\"\\s+\", \" \", game_str)                    # shorten all whitespace to a single character\n",
    "    game_str = re.sub(r\"\\s(?=[\\)}])\", \"\", game_str)             # remove whitespace before closing brackets\n",
    "    game_str = re.sub(r\"(?<=[\\({])\\s\", \"\", game_str)            # remove whitespace after opening brackets\n",
    "    game_str = re.sub(r\"(?<=:)\\s\", \"\", game_str)                # remove whitespace after colons\n",
    "\n",
    "    return game_str.strip()\n",
    "\n",
    "train = [format(game) for game in dataset_train['base_game']]\n",
    "val = [format(game) for game in dataset_val['base_game']]\n",
    "test = [format(game) for game in dataset_test['base_game']]"
   ]
  },
  {
   "cell_type": "code",
   "execution_count": 12,
   "metadata": {},
   "outputs": [],
   "source": [
    "def num_lines_diff(game_1, game_2):\n",
    "    count = 0\n",
    "    for line in difflib.unified_diff(game_1.splitlines(), game_2.splitlines(), fromfile='file1', tofile='file2', lineterm='', n=0):\n",
    "        for prefix in ('---', '+++', '@@'):\n",
    "            if line.startswith(prefix):\n",
    "                continue\n",
    "        else:\n",
    "            count += 1\n",
    "\n",
    "    return count"
   ]
  },
  {
   "cell_type": "code",
   "execution_count": 14,
   "metadata": {},
   "outputs": [
    {
     "name": "stdout",
     "output_type": "stream",
     "text": [
      "\n",
      "Considering game 1\n",
      "\tLineage length: 6\n",
      "\tDiff between 0 and 1: 29\n",
      "\tDiff between 1 and 2: 8\n",
      "\tDiff between 2 and 3: 15\n",
      "\tDiff between 3 and 4: 14\n",
      "\tDiff between 4 and 5: 74\n",
      "\tDiff between 5 and 6: 6\n",
      "\n",
      "Considering game 2\n",
      "\tLineage length: 3\n",
      "\tDiff between 0 and 1: 5\n",
      "\tDiff between 1 and 2: 11\n",
      "\tDiff between 2 and 3: 8\n",
      "\n",
      "Considering game 3\n",
      "\tLineage length: 6\n",
      "\tDiff between 0 and 1: 17\n",
      "\tDiff between 1 and 2: 89\n",
      "\tDiff between 2 and 3: 11\n",
      "\tDiff between 3 and 4: 8\n",
      "\tDiff between 4 and 5: 98\n",
      "\tDiff between 5 and 6: 5\n",
      "\n",
      "Considering game 4\n",
      "\tLineage length: 5\n",
      "\tDiff between 0 and 1: 29\n",
      "\tDiff between 1 and 2: 8\n",
      "\tDiff between 2 and 3: 15\n",
      "\tDiff between 3 and 4: 14\n",
      "\tDiff between 4 and 5: 7\n",
      "\n",
      "Considering game 5\n",
      "\tLineage length: 3\n",
      "\tDiff between 0 and 1: 8\n",
      "\tDiff between 1 and 2: 16\n",
      "\tDiff between 2 and 3: 8\n",
      "\n",
      "Considering game 6\n",
      "\tLineage length: 5\n",
      "\tDiff between 0 and 1: 5\n",
      "\tDiff between 1 and 2: 10\n",
      "\tDiff between 2 and 3: 202\n",
      "\tDiff between 3 and 4: 4\n",
      "\tDiff between 4 and 5: 7\n",
      "\n",
      "Considering game 7\n",
      "\tLineage length: 5\n",
      "\tDiff between 0 and 1: 8\n",
      "\tDiff between 1 and 2: 7\n",
      "\tDiff between 2 and 3: 7\n",
      "\tDiff between 3 and 4: 7\n",
      "\tDiff between 4 and 5: 5\n",
      "\n",
      "Considering game 8\n",
      "\tLineage length: 2\n",
      "\tDiff between 0 and 1: 8\n",
      "\tDiff between 1 and 2: 11\n",
      "\n",
      "Considering game 9\n",
      "\tLineage length: 6\n",
      "\tDiff between 0 and 1: 17\n",
      "\tDiff between 1 and 2: 89\n",
      "\tDiff between 2 and 3: 11\n",
      "\tDiff between 3 and 4: 8\n",
      "\tDiff between 4 and 5: 53\n",
      "\tDiff between 5 and 6: 14\n",
      "\n",
      "Considering game 10\n",
      "\tLineage length: 4\n",
      "\tDiff between 0 and 1: 21\n",
      "\tDiff between 1 and 2: 25\n",
      "\tDiff between 2 and 3: 38\n",
      "\tDiff between 3 and 4: 17\n",
      "\n",
      "Considering game 11\n",
      "\tLineage length: 1\n",
      "\tDiff between 0 and 1: 17\n",
      "\n",
      "Considering game 12\n",
      "\tLineage length: 2\n",
      "\tDiff between 0 and 1: 17\n",
      "\tDiff between 1 and 2: 12\n",
      "\n",
      "Considering game 13\n",
      "\tLineage length: 3\n",
      "\tDiff between 0 and 1: 5\n",
      "\tDiff between 1 and 2: 11\n",
      "\tDiff between 2 and 3: 147\n",
      "\n",
      "Considering game 14\n",
      "\tLineage length: 5\n",
      "\tDiff between 0 and 1: 17\n",
      "\tDiff between 1 and 2: 89\n",
      "\tDiff between 2 and 3: 11\n",
      "\tDiff between 3 and 4: 8\n",
      "\tDiff between 4 and 5: 53\n",
      "\n",
      "Considering game 15\n",
      "\tLineage length: 1\n",
      "\tDiff between 0 and 1: 43\n",
      "\n",
      "Considering game 16\n",
      "\tLineage length: 2\n",
      "\tDiff between 0 and 1: 43\n",
      "\tDiff between 1 and 2: 20\n",
      "\n",
      "Considering game 17\n",
      "\tLineage length: 6\n",
      "\tDiff between 0 and 1: 17\n",
      "\tDiff between 1 and 2: 89\n",
      "\tDiff between 2 and 3: 11\n",
      "\tDiff between 3 and 4: 8\n",
      "\tDiff between 4 and 5: 98\n",
      "\tDiff between 5 and 6: 6\n"
     ]
    }
   ],
   "source": [
    "total = 0\n",
    "novel_games = []\n",
    "\n",
    "for key in archive:\n",
    "    for game in archive[key]:\n",
    "        if len(game.lineage) == 0:\n",
    "            continue\n",
    "        \n",
    "        print(f\"\\nConsidering game {total + 1}\")\n",
    "        print(f\"\\tLineage length: {len(game.lineage)}\")\n",
    "        complete_lineage = game.lineage + [game.game_str]\n",
    "        for idx in range(len(complete_lineage) - 1):\n",
    "            start = format_single_line_game(complete_lineage[idx])\n",
    "            end = format_single_line_game(complete_lineage[idx + 1])\n",
    "            lines_diff = num_lines_diff(start, end)\n",
    "\n",
    "            print(f\"\\tDiff between {idx} and {idx + 1}: {lines_diff}\")\n",
    "\n",
    "            if lines_diff == 0:\n",
    "                print(f\"\\t\\tGame {total + 1} is not novel\")\n",
    "                break\n",
    "\n",
    "        if lines_diff > 0:\n",
    "            novel_games.append(game)\n",
    "\n",
    "        total += 1"
   ]
  },
  {
   "cell_type": "code",
   "execution_count": 118,
   "metadata": {},
   "outputs": [],
   "source": [
    "# _mask_names(format_multi_line_game(actual_game), engine) == _mask_names(format_multi_line_game(generated_game), engine)\n",
    "# a = _mask_names(format_multi_line_game(actual_game), engine)\n",
    "# b = _mask_names(format_multi_line_game(generated_game), engine)\n",
    "\n",
    "# for line in difflib.unified_diff(a.splitlines(), b.splitlines(), fromfile='file1', tofile='file2', lineterm=''):\n",
    "#     print(line)"
   ]
  },
  {
   "cell_type": "code",
   "execution_count": 133,
   "metadata": {},
   "outputs": [],
   "source": [
    "novel_games = list(sorted(novel_games, key=lambda x: np.mean(x.fitness_scores), reverse=True))"
   ]
  },
  {
   "cell_type": "code",
   "execution_count": 144,
   "metadata": {},
   "outputs": [
    {
     "name": "stdout",
     "output_type": "stream",
     "text": [
      "The 25th most-fit novel game has fitness scores: [0.9579487179487179, 0.9186923076923077, 0.9086923076923078, 0.9626153846153845, 0.9266666666666667]\n",
      "...and a lineage of length 9\n",
      "...and evaluations of [{'compilable': True, 'playable': True, 'balance': 0.8999999999999999, 'completion': 1.0, 'drawishness': 1.0, 'mean_turns': 24.15, 'decision_moves': 0.9536923076923077, 'board_coverage_default': 0.9440000000000002, 'trace_score': 0.95, 'game_str': '(game \"GAME_NAME\" (players 2) (equipment {  (board (rectangle 5 5) use:Vertex)   (hand Each) (piece \"PIECE_ALPHA\" P1 (move Step (to if:(is Empty (to))))) (piece \"PIECE_BETA\" P2 (move Step (to if: )))}) (rules (start {  (place \"PIECE_ALPHA1\" (handSite P1) count:20)    (place \"PIECE_BETA2\" (handSite P2) count:20) }) phases:{(phase \"Placement\" (play (move (from (handSite Mover)) (to (sites Empty))))  (nextPhase (all Sites (sites Hand P2) if:(= 0 (count Cell at:(site)))) \"Movement\") ) (phase \"Movement\" (play (forEach Piece)))} (end {(if (no Moves P2) (result P1 Win)) (if (or   (is Line 5 All)   (>= (count Turns) (- (value TurnLimit) 5))) (result P2 Win))})))'}, {'compilable': True, 'playable': True, 'balance': 0.6000000000000001, 'completion': 1.0, 'drawishness': 1.0, 'mean_turns': 24.9, 'decision_moves': 0.9441538461538463, 'board_coverage_default': 0.968, 'trace_score': 1.0, 'game_str': '(game \"GAME_NAME\" (players 2) (equipment {  (board (rectangle 5 5) use:Vertex)   (hand Each) (piece \"PIECE_ALPHA\" P1 (move Step (to if:(is Empty (to))))) (piece \"PIECE_BETA\" P2 (move Step (to if: )))}) (rules (start {  (place \"PIECE_ALPHA1\" (handSite P1) count:20)    (place \"PIECE_BETA2\" (handSite P2) count:20) }) phases:{(phase \"Placement\" (play (move (from (handSite Mover)) (to (sites Empty))))  (nextPhase (all Sites (sites Hand P2) if:(= 0 (count Cell at:(site)))) \"Movement\") ) (phase \"Movement\" (play (forEach Piece)))} (end {(if (no Moves P2) (result P1 Win)) (if (or   (is Line 5 All)   (>= (count Turns) (- (value TurnLimit) 5))) (result P2 Win))})))'}, {'compilable': True, 'playable': True, 'balance': 0.6000000000000001, 'completion': 1.0, 'drawishness': 1.0, 'mean_turns': 24.7, 'decision_moves': 0.9421538461538462, 'board_coverage_default': 0.96, 'trace_score': 0.95, 'game_str': '(game \"GAME_NAME\" (players 2) (equipment {  (board (rectangle 5 5) use:Vertex)   (hand Each) (piece \"PIECE_ALPHA\" P1 (move Step (to if:(is Empty (to))))) (piece \"PIECE_BETA\" P2 (move Step (to if: )))}) (rules (start {  (place \"PIECE_ALPHA1\" (handSite P1) count:20)    (place \"PIECE_BETA2\" (handSite P2) count:20) }) phases:{(phase \"Placement\" (play (move (from (handSite Mover)) (to (sites Empty))))  (nextPhase (all Sites (sites Hand P2) if:(= 0 (count Cell at:(site)))) \"Movement\") ) (phase \"Movement\" (play (forEach Piece)))} (end {(if (no Moves P2) (result P1 Win)) (if (or   (is Line 5 All)   (>= (count Turns) (- (value TurnLimit) 5))) (result P2 Win))})))'}, {'compilable': True, 'playable': True, 'balance': 0.8999999999999999, 'completion': 1.0, 'drawishness': 1.0, 'mean_turns': 24.95, 'decision_moves': 0.9496923076923078, 'board_coverage_default': 0.9760000000000002, 'trace_score': 0.95, 'game_str': '(game \"GAME_NAME\" (players 2) (equipment {  (board (rectangle 5 5) use:Vertex)   (hand Each) (piece \"PIECE_ALPHA\" P1 (move Step (to if:(is Empty (to))))) (piece \"PIECE_BETA\" P2 (move Step (to if: )))}) (rules (start {  (place \"PIECE_ALPHA1\" (handSite P1) count:20)    (place \"PIECE_BETA2\" (handSite P2) count:20) }) phases:{(phase \"Placement\" (play (move (from (handSite Mover)) (to (sites Empty))))  (nextPhase (all Sites (sites Hand P2) if:(= 0 (count Cell at:(site)))) \"Movement\") ) (phase \"Movement\" (play (forEach Piece)))} (end {(if (no Moves P2) (result P1 Win)) (if (or   (is Line 5 All)   (>= (count Turns) (- (value TurnLimit) 5))) (result P2 Win))})))'}, {'compilable': True, 'playable': True, 'balance': 0.7, 'completion': 1.0, 'drawishness': 1.0, 'mean_turns': 24.8, 'decision_moves': 0.9440000000000003, 'board_coverage_default': 0.966, 'trace_score': 0.95, 'game_str': '(game \"GAME_NAME\" (players 2) (equipment {  (board (rectangle 5 5) use:Vertex)   (hand Each) (piece \"PIECE_ALPHA\" P1 (move Step (to if:(is Empty (to))))) (piece \"PIECE_BETA\" P2 (move Step (to if: )))}) (rules (start {  (place \"PIECE_ALPHA1\" (handSite P1) count:20)    (place \"PIECE_BETA2\" (handSite P2) count:20) }) phases:{(phase \"Placement\" (play (move (from (handSite Mover)) (to (sites Empty))))  (nextPhase (all Sites (sites Hand P2) if:(= 0 (count Cell at:(site)))) \"Movement\") ) (phase \"Movement\" (play (forEach Piece)))} (end {(if (no Moves P2) (result P1 Win)) (if (or   (is Line 5 All)   (>= (count Turns) (- (value TurnLimit) 5))) (result P2 Win))})))'}]\n",
      "\n",
      "\n",
      "\n",
      "(game \"GAME_NAME\" \n",
      "    (players 2)\n",
      "\n",
      "    (equipment {  \n",
      "            (board \n",
      "                (rectangle 5 5)\n",
      "            use:Vertex)\n",
      "            (hand Each)\n",
      "            (piece \"PIECE_ALPHA\" P1 \n",
      "                (move Step \n",
      "                    (to if:(is Empty (to)))\n",
      "                )\n",
      "            )\n",
      "            (piece \"PIECE_BETA\" P2 \n",
      "                (move Step \n",
      "                    (to if: )\n",
      "                )\n",
      "            )\n",
      "    })\n",
      "\n",
      "    (rules \n",
      "        (start {  \n",
      "                (place \"PIECE_ALPHA1\" \n",
      "                    (handSite P1)\n",
      "                count:20)\n",
      "                (place \"PIECE_BETA2\" \n",
      "                    (handSite P2)\n",
      "                count:20)\n",
      "        })\n",
      "        phases:{\n",
      "\n",
      "            (phase \"Placement\" \n",
      "                (play \n",
      "                    (move \n",
      "                        (from (handSite Mover))\n",
      "                        (to (sites Empty))\n",
      "                    )\n",
      "                )\n",
      "                (nextPhase \n",
      "                    (all Sites (sites Hand P2) if:(= 0 (count Cell at:(site))))\n",
      "                \"Movement\")\n",
      "            )\n",
      "\n",
      "            (phase \"Movement\" \n",
      "                (play \n",
      "                    (forEach Piece)\n",
      "                )\n",
      "            )\n",
      "        } \n",
      "\n",
      "        (end {\n",
      "                (if (no Moves P2) (result P1 Win))\n",
      "                (if (or   \n",
      "                        (is Line 5 All)\n",
      "                        (>= \n",
      "                            (count Turns)\n",
      "                            (- (value TurnLimit) 5)\n",
      "                        )\n",
      "                ) (result P2 Win))\n",
      "        })\n",
      "    )\n",
      ")\n"
     ]
    }
   ],
   "source": [
    "idx = 25\n",
    "print(f\"The {idx}th most-fit novel game has fitness scores: {novel_games[idx].fitness_scores}\")\n",
    "print(f\"...and a lineage of length {len(novel_games[idx].lineage)}\")\n",
    "print(f\"...and evaluations of {novel_games[idx].evaluations}\")\n",
    "print(\"\\n\\n\")\n",
    "print(pretty_format_single_line_game(novel_games[idx].game_str))"
   ]
  },
  {
   "cell_type": "code",
   "execution_count": 147,
   "metadata": {},
   "outputs": [
    {
     "name": "stdout",
     "output_type": "stream",
     "text": [
      "(game \"GAME_NAME\" (players 2) (equipment {  (board (rectangle 5 5) use:Vertex)   (hand Each) (piece \"PIECE_ALPHA\" P1 (move Step (to if:(is Empty (to))))) (piece \"PIECE_BETA\" P2 (move Step (to if: )))}) (rules (start {  (place \"PIECE_ALPHA1\" (handSite P1) count:20)    (place \"PIECE_BETA2\" (handSite P2) count:20) }) phases:{(phase \"Placement\" (play (move (from (handSite Mover)) (to (sites Empty))))  (nextPhase (all Sites (sites Hand P2) if:(= 0 (count Cell at:(site)))) \"Movement\") ) (phase \"Movement\" (play (forEach Piece)))} (end {(if (no Moves P2) (result P1 Win)) (if (or   (is Line 5 All)   (>= (count Turns) (- (value TurnLimit) 5))) (result P2 Win))})))\n"
     ]
    }
   ],
   "source": [
    "print(novel_games[idx].game_str)"
   ]
  },
  {
   "cell_type": "code",
   "execution_count": 143,
   "metadata": {},
   "outputs": [
    {
     "name": "stdout",
     "output_type": "stream",
     "text": [
      "\n",
      "\n",
      "Diff between lineage games 0 and 1:\n",
      "--- file1\n",
      "+++ file2\n",
      "@@ -40,7 +40,7 @@\n",
      "     })\n",
      " \n",
      "     (rules \n",
      "-        (start {\n",
      "+        (start { \n",
      "                 (place \"PIECE_ALPHA1\" \n",
      "                     (handSite P1)\n",
      "                 count:3)\n",
      "\n",
      "\n",
      "Diff between lineage games 1 and 2:\n",
      "--- file1\n",
      "+++ file2\n",
      "@@ -1,31 +1,10 @@\n",
      " (game \"GAME_NAME\" \n",
      "     (players 2)\n",
      " \n",
      "-    (equipment {\n",
      "+    (equipment { \n",
      "             (board \n",
      "-                (add \n",
      "-                    (merge {\n",
      "-                            (scale 2 1 \n",
      "-                                (rectangle 1 3)\n",
      "-                            )\n",
      "-                            (rectangle 2 1)\n",
      "-                            (shift 4 0 \n",
      "-                                (rectangle 2 1)\n",
      "-                            )\n",
      "-                            (shift 4 1.5 \n",
      "-                                (rectangle 2 1)\n",
      "-                            )\n",
      "-                            (shift 0 1.5 \n",
      "-                                (rectangle 2 1)\n",
      "-                            )\n",
      "-                            (scale 2 1 \n",
      "-                                (shift 0 2.5 \n",
      "-                                    (rectangle 1 3)\n",
      "-                                )\n",
      "-                            )\n",
      "-                    })\n",
      "-                edges:{{3 7} {5 4} {9 1} {3 1} {1 4} {5 9} {9 7}})\n",
      "-            use:Vertex)\n",
      "+                (rectangle 10 10)\n",
      "+            )\n",
      "             (hand Each)\n",
      "             (piece \"PIECE_ALPHA\" P1 \n",
      "                 (move Step \n",
      "\n",
      "\n",
      "Diff between lineage games 2 and 3:\n",
      "--- file1\n",
      "+++ file2\n",
      "@@ -19,10 +19,10 @@\n",
      "     })\n",
      " \n",
      "     (rules \n",
      "-        (start { \n",
      "+        (start {  \n",
      "                 (place \"PIECE_ALPHA1\" \n",
      "                     (handSite P1)\n",
      "-                count:3)\n",
      "+                count:20)\n",
      "                 (place \"PIECE_BETA2\" \n",
      "                     (handSite P2)\n",
      "                 )\n",
      "\n",
      "\n",
      "Diff between lineage games 3 and 4:\n",
      "--- file1\n",
      "+++ file2\n",
      "@@ -50,11 +50,8 @@\n",
      " \n",
      "         (end {\n",
      "                 (if (no Moves P2) (result P1 Win))\n",
      "-                (if (or \n",
      "-                        (>= \n",
      "-                            (count Moves)\n",
      "-                            (- (value MoveLimit) 10)\n",
      "-                        )\n",
      "+                (if (or  \n",
      "+                        (no Pieces P1)\n",
      "                         (>= \n",
      "                             (count Turns)\n",
      "                             (- (value TurnLimit) 5)\n",
      "\n",
      "\n",
      "Diff between lineage games 4 and 5:\n",
      "--- file1\n",
      "+++ file2\n",
      "@@ -25,7 +25,7 @@\n",
      "                 count:20)\n",
      "                 (place \"PIECE_BETA2\" \n",
      "                     (handSite P2)\n",
      "-                )\n",
      "+                count:20)\n",
      "         })\n",
      "         phases:{\n",
      " \n",
      "\n",
      "\n",
      "Diff between lineage games 5 and 6:\n",
      "--- file1\n",
      "+++ file2\n",
      "@@ -36,8 +36,8 @@\n",
      "                         (to (sites Empty))\n",
      "                     )\n",
      "                 )\n",
      "-                (nextPhase Mover \n",
      "-                    (all Sites (sites Hand Mover) if:(= 0 (count Cell at:(site))))\n",
      "+                (nextPhase \n",
      "+                    (all Sites (sites Hand P2) if:(= 0 (count Cell at:(site))))\n",
      "                 \"Movement\")\n",
      "             )\n",
      " \n",
      "\n",
      "\n",
      "Diff between lineage games 6 and 7:\n",
      "--- file1\n",
      "+++ file2\n",
      "@@ -50,8 +50,8 @@\n",
      " \n",
      "         (end {\n",
      "                 (if (no Moves P2) (result P1 Win))\n",
      "-                (if (or  \n",
      "-                        (no Pieces P1)\n",
      "+                (if (or   \n",
      "+                        (is Line 5 All)\n",
      "                         (>= \n",
      "                             (count Turns)\n",
      "                             (- (value TurnLimit) 5)\n",
      "\n",
      "\n",
      "Diff between lineage games 7 and 8:\n",
      "--- file1\n",
      "+++ file2\n",
      "@@ -1,10 +1,10 @@\n",
      " (game \"GAME_NAME\" \n",
      "     (players 2)\n",
      " \n",
      "-    (equipment { \n",
      "+    (equipment {  \n",
      "             (board \n",
      "-                (rectangle 10 10)\n",
      "-            )\n",
      "+                (rectangle 5 5)\n",
      "+            use:Vertex)\n",
      "             (hand Each)\n",
      "             (piece \"PIECE_ALPHA\" P1 \n",
      "                 (move Step \n",
      "\n",
      "\n",
      "Diff between final lineage game and current game:\n",
      "--- file1\n",
      "+++ file2\n",
      "@@ -13,7 +13,7 @@\n",
      "             )\n",
      "             (piece \"PIECE_BETA\" P2 \n",
      "                 (move Step \n",
      "-                    (to if:(is Empty (to)))\n",
      "+                    (to if: )\n",
      "                 )\n",
      "             )\n",
      "     })\n"
     ]
    }
   ],
   "source": [
    "for lineage_idx in range(len(novel_games[idx].lineage)-1):\n",
    "    cur_game = pretty_format_single_line_game(novel_games[idx].lineage[lineage_idx])\n",
    "    next_game = pretty_format_single_line_game(novel_games[idx].lineage[lineage_idx+1])\n",
    "\n",
    "    print(f\"\\n\\nDiff between lineage games {lineage_idx} and {lineage_idx+1}:\")\n",
    "    for line in difflib.unified_diff(cur_game.splitlines(), next_game.splitlines(), fromfile='file1', tofile='file2', lineterm=''):\n",
    "        print(line)\n",
    "\n",
    "cur_game = pretty_format_single_line_game(novel_games[idx].lineage[-1])\n",
    "next_game = pretty_format_single_line_game(novel_games[idx].game_str)\n",
    "print(f\"\\n\\nDiff between final lineage game and current game:\")\n",
    "for line in difflib.unified_diff(cur_game.splitlines(), next_game.splitlines(), fromfile='file1', tofile='file2', lineterm=''):\n",
    "    print(line)"
   ]
  },
  {
   "cell_type": "code",
   "execution_count": 146,
   "metadata": {},
   "outputs": [
    {
     "name": "stdout",
     "output_type": "stream",
     "text": [
      "(game \"GAME_NAME\" (players 2) (equipment {  (board (rectangle 5 5) use:Vertex)   (hand Each) (piece \"PIECE_ALPHA\" P1 (move Step (to if:(is Empty (to))))) (piece \"PIECE_BETA\" P2 (move Step (to if: )))}) (rules (start {  (place \"PIECE_ALPHA1\" (handSite P1) count:20)    (place \"PIECE_BETA2\" (handSite P2) count:20) }) phases:{(phase \"Placement\" (play (move (from (handSite Mover)) (to (sites Empty))))  (nextPhase (all Sites (sites Hand P2) if:(= 0 (count Cell at:(site)))) \"Movement\") ) (phase \"Movement\" (play (forEach Piece)))} (end {(if (no Moves P2) (result P1 Win)) (if (or   (is Line 5 All)   (>= (count Turns) (- (value TurnLimit) 5))) (result P2 Win))})))\n"
     ]
    }
   ],
   "source": [
    "# from java_api import RandomEvaluation\n",
    "# evaluation = RandomEvaluation()\n",
    "# evaluation.evaluate(novel_games[idx].game_str)\n",
    "print(novel_games[idx].game_str)"
   ]
  },
  {
   "cell_type": "code",
   "execution_count": 57,
   "metadata": {},
   "outputs": [
    {
     "data": {
      "text/plain": [
       "Text(0.5, 1.0, 'Lineage lengths (avg = 8.5, min = 1, max = 20, mode = 7)')"
      ]
     },
     "execution_count": 57,
     "metadata": {},
     "output_type": "execute_result"
    },
    {
     "data": {
      "image/png": "[encoded data removed]",
      "text/plain": [
       "<Figure size 640x480 with 1 Axes>"
      ]
     },
     "metadata": {},
     "output_type": "display_data"
    }
   ],
   "source": [
    "lineage_lengths = [len(game.lineage) for game in novel_games]\n",
    "avg, min, max, mode = np.mean(lineage_lengths), np.min(lineage_lengths), np.max(lineage_lengths), stats.mode(lineage_lengths).mode\n",
    "plt.hist(lineage_lengths, bins=10)\n",
    "plt.title(f\"Lineage lengths (avg = {avg}, min = {min}, max = {max}, mode = {mode})\")"
   ]
  },
  {
   "cell_type": "code",
   "execution_count": 58,
   "metadata": {},
   "outputs": [
    {
     "data": {
      "text/plain": [
       "[<matplotlib.lines.Line2D at 0x12d33bf70>]"
      ]
     },
     "execution_count": 58,
     "metadata": {},
     "output_type": "execute_result"
    },
    {
     "data": {
      "image/png": "[encoded data removed]",
      "text/plain": [
       "<Figure size 640x480 with 1 Axes>"
      ]
     },
     "metadata": {},
     "output_type": "display_data"
    }
   ],
   "source": [
    "plt.plot(range(len(lineage_lengths)), lineage_lengths)"
   ]
  }
 ],
 "metadata": {
  "kernelspec": {
   "display_name": "ludii-lms",
   "language": "python",
   "name": "python3"
  },
  "language_info": {
   "codemirror_mode": {
    "name": "ipython",
    "version": 3
   },
   "file_extension": ".py",
   "mimetype": "text/x-python",
   "name": "python",
   "nbconvert_exporter": "python",
   "pygments_lexer": "ipython3",
   "version": "3.10.6"
  }
 },
 "nbformat": 4,
 "nbformat_minor": 2
}
